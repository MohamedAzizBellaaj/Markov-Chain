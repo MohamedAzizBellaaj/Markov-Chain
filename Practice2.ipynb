{
 "cells": [
  {
   "cell_type": "code",
   "execution_count": 355,
   "metadata": {},
   "outputs": [],
   "source": [
    "import numpy as np\n",
    "import matplotlib.pyplot as plt\n"
   ]
  },
  {
   "attachments": {},
   "cell_type": "markdown",
   "metadata": {},
   "source": [
    "#### We will define the transition matrix and the initial state distribution.\n"
   ]
  },
  {
   "cell_type": "code",
   "execution_count": 356,
   "metadata": {},
   "outputs": [],
   "source": [
    "T = np.array([[0.7, 0.2, 0.1], [0.3, 0.4, 0.3], [0.2, 0.3, 0.5]])\n",
    "\n",
    "PX0 = np.array([0.4, 0.3, 0.3])\n"
   ]
  },
  {
   "attachments": {},
   "cell_type": "markdown",
   "metadata": {},
   "source": [
    "#### I) Write a program that generates the n First distributions states.\n"
   ]
  },
  {
   "cell_type": "code",
   "execution_count": 357,
   "metadata": {},
   "outputs": [],
   "source": [
    "def generate_states(n):\n",
    "    state_distributions = [PX0]\n",
    "    current_distribution = PX0\n",
    "\n",
    "    for _ in range(n):\n",
    "        next_distribution = current_distribution @ T\n",
    "        state_distributions.append(next_distribution)\n",
    "        current_distribution = next_distribution\n",
    "\n",
    "    return state_distributions\n"
   ]
  },
  {
   "attachments": {},
   "cell_type": "markdown",
   "metadata": {},
   "source": [
    "#### II) Visualize your the dynamics of the underlying MC, where at each step you plot a simulation of the corresponding states' distribution.\n"
   ]
  },
  {
   "cell_type": "code",
   "execution_count": 358,
   "metadata": {},
   "outputs": [],
   "source": [
    "# We define N and the number of columns\n",
    "\n",
    "N = 20\n",
    "n_columns = 20\n",
    "state_distributions = generate_states(N)\n"
   ]
  },
  {
   "cell_type": "code",
   "execution_count": 359,
   "metadata": {},
   "outputs": [],
   "source": [
    "def collapse(list, val):\n",
    "    if val <= list[0]:\n",
    "        return \"red\"\n",
    "    elif val <= list[0] + list[1]:\n",
    "        return \"green\"\n",
    "    else:\n",
    "        return \"blue\"\n"
   ]
  },
  {
   "cell_type": "code",
   "execution_count": 360,
   "metadata": {},
   "outputs": [],
   "source": [
    "# We will simulate the dynamics of the MC\n",
    "\n",
    "np.random.seed(0)\n",
    "\n",
    "distributions = []\n",
    "for state_distribution in state_distributions:\n",
    "    distribution = [\n",
    "        collapse(state_distribution, np.random.rand()) for i in range(n_columns)\n",
    "    ]\n",
    "    distributions.append(distribution)\n"
   ]
  },
  {
   "cell_type": "code",
   "execution_count": 361,
   "metadata": {},
   "outputs": [
    {
     "data": {
      "image/png": "[encoded data removed]",
      "text/plain": [
       "<Figure size 640x480 with 1 Axes>"
      ]
     },
     "metadata": {},
     "output_type": "display_data"
    }
   ],
   "source": [
    "# We will now visualize it\n",
    "\n",
    "fig, ax = plt.subplots()\n",
    "\n",
    "for i in range(len(distributions)):\n",
    "    for j in range(len(distributions[0])):\n",
    "        color = distributions[i][j]\n",
    "        square = plt.Rectangle((j, i), 1, 1, fc=color, ec=\"black\")\n",
    "        ax.add_patch(square)\n",
    "\n",
    "ax.set_xlim(0, len(distributions[0]))\n",
    "ax.set_ylim(0, len(distributions))\n",
    "ax.set_xticks([])\n",
    "ax.set_yticks([])\n",
    "\n",
    "plt.show()\n"
   ]
  }
 ],
 "metadata": {
  "kernelspec": {
   "display_name": "data-science",
   "language": "python",
   "name": "python3"
  },
  "language_info": {
   "codemirror_mode": {
    "name": "ipython",
    "version": 3
   },
   "file_extension": ".py",
   "mimetype": "text/x-python",
   "name": "python",
   "nbconvert_exporter": "python",
   "pygments_lexer": "ipython3",
   "version": "3.11.3"
  },
  "orig_nbformat": 4
 },
 "nbformat": 4,
 "nbformat_minor": 2
}
